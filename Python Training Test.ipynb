{
 "cells": [
  {
   "cell_type": "markdown",
   "id": "b1fbae34-1de5-4f45-bf88-66cc373bfb5e",
   "metadata": {},
   "source": [
    "### Q: Write a program to count the sub_string from main string\r\n",
    "Example:- A B C D C D              C \r\n",
    "Sub_string= C D C result =2\r\n",
    " "
   ]
  },
  {
   "cell_type": "code",
   "execution_count": 5,
   "id": "e599c813-113c-4d44-888c-a3af5117dc42",
   "metadata": {},
   "outputs": [
    {
     "name": "stdout",
     "output_type": "stream",
     "text": [
      "The substring appears 2 times.\n"
     ]
    }
   ],
   "source": [
    "def count_substring(main_string, sub_string):\n",
    "    count = 0\n",
    "    sub_len = len(sub_string)\n",
    "    for i in range(len(main_string) - sub_len + 1):\n",
    "        if main_string[i:i + sub_len] == sub_string:\n",
    "            count += 1\n",
    "    return count\n",
    "main_string = \"A B C D C D C\".split()\n",
    "Sub_string = \"C D C\".split()\n",
    "result = count_substring(main_string, sub_string)\n",
    "print(\"The substring appears\", result, \"times.\")\n"
   ]
  },
  {
   "cell_type": "markdown",
   "id": "fbde94e2-1128-4090-9713-2a755d229cc5",
   "metadata": {},
   "source": [
    "#### Q: Write a program to take 4 number and store in list \r\n",
    "[2,4,6,8] find the factorial of the each number of the list and store the value  in the lis.t "
   ]
  },
  {
   "cell_type": "code",
   "execution_count": 26,
   "id": "d630ef81-226f-4515-806a-f7a9a27c7dd3",
   "metadata": {},
   "outputs": [
    {
     "name": "stdout",
     "output_type": "stream",
     "text": [
      "Original numbers: [2, 4, 6, 8]\n",
      "Factorials: [2, 24, 720, 40320]\n"
     ]
    }
   ],
   "source": [
    "import math\n",
    "numbers = [2, 4, 6, 8] #given list\n",
    "factorials = [math.factorial(num) for num in numbers]\n",
    "print(\"Original numbers:\", numbers)\n",
    "print(\"Factorials:\", factorials)"
   ]
  },
  {
   "cell_type": "markdown",
   "id": "ce39de59-440c-4142-b402-b7defc696907",
   "metadata": {},
   "source": [
    "#### Q: Create a strong password combining words, numbers and characters. \r\n",
    "(* )Keep creating the new password until you find one you like\r\n"
   ]
  },
  {
   "cell_type": "code",
   "execution_count": 12,
   "id": "811be4ea-3b41-46d4-ac2a-1db12d2b830c",
   "metadata": {},
   "outputs": [
    {
     "name": "stdout",
     "output_type": "stream",
     "text": [
      "Generating a password...\n",
      "Your password is: lQ^*Fogn7==(\n"
     ]
    },
    {
     "name": "stdin",
     "output_type": "stream",
     "text": [
      "Is this password matching with your criteria?  (yes/no):  y\n"
     ]
    },
    {
     "name": "stdout",
     "output_type": "stream",
     "text": [
      "Hurray! the password has been accepted.\n"
     ]
    }
   ],
   "source": [
    "import random\n",
    "import string\n",
    "\n",
    "def generate_password(length=12):\n",
    "    words = [\"anaconda\", \"bus\", \"chatting\", \"delta\", \"eyes\", \"fog\", \"goat\", \"hell\", \"India\", \"june\"]\n",
    "    numbers = string.digits\n",
    "    special_chars = \"!@#$%^&*()-_+=\" \n",
    "    password = []\n",
    "    password.append(random.choice(words).capitalize()) #adding word\n",
    "    password.append(random.choice(numbers)) #adding number\n",
    "    password.append(random.choice(special_chars)) #adding special charecter\n",
    "    while len(\"\".join(password)) < length:\n",
    "        password.append(random.choice(string.ascii_letters + numbers + special_chars))\n",
    "\n",
    "    random.shuffle(password)\n",
    "    \n",
    "    return \"\".join(password)\n",
    "\n",
    "while True:\n",
    "    print(\"Generating a password...\")\n",
    "    new_password = generate_password(12)\n",
    "    print(\"Your password is:\", new_password)\n",
    "    \n",
    "    choice = input(\"Is this password matching with your criteria?  (yes/no): \").strip().lower()\n",
    "    if choice == \"yes\"or choice == \"y\":\n",
    "        print(\"Hurray! the password has been accepted.\")\n",
    "        break\n",
    "    else:\n",
    "        print(\"Generating a new password...\\n\")\n"
   ]
  },
  {
   "cell_type": "markdown",
   "id": "ea377111-f0e7-421c-ae23-5f0b00d1d74b",
   "metadata": {},
   "source": [
    "#### Q:  Checking of the vowels inside the string."
   ]
  },
  {
   "cell_type": "code",
   "execution_count": 15,
   "id": "0af2204f-8bbe-4277-b72a-e6af922c934e",
   "metadata": {},
   "outputs": [
    {
     "name": "stdin",
     "output_type": "stream",
     "text": [
      "Enter a string:  This is python programming and today is the final day.\n"
     ]
    },
    {
     "name": "stdout",
     "output_type": "stream",
     "text": [
      "Vowels found: ['i', 'i', 'o', 'o', 'a', 'i']\n",
      "Total number of vowels: 6\n"
     ]
    }
   ],
   "source": [
    "def check_vowels(input_string):\n",
    "    vowels = \"aeiouAEIOU\"\n",
    "    found_vowels = []\n",
    "    for char in input_string:\n",
    "        if char in vowels:\n",
    "            found_vowels.append(char)\n",
    "    \n",
    "    return found_vowels\n",
    "    \n",
    "user_string = input(\"Enter a string: \")\n",
    "vowels_in_string = check_vowels(input_string)\n",
    "\n",
    "if vowels_in_string:\n",
    "    print(\"Vowels found:\", vowels_in_string)\n",
    "    print(\"Total number of vowels:\", len(vowels_in_string))\n",
    "else:\n",
    "    print(\"Sorry! No vowels found in given string.\")\n"
   ]
  },
  {
   "cell_type": "markdown",
   "id": "f6eec554-d9a0-4d4b-bb2d-5a63135e9405",
   "metadata": {},
   "source": [
    "#### Q: A python program to access each element of a string in forward and reverse orders using while loop."
   ]
  },
  {
   "cell_type": "code",
   "execution_count": 19,
   "id": "73b2b80e-10e9-42b0-8ada-38fe5dc60ffe",
   "metadata": {},
   "outputs": [
    {
     "name": "stdin",
     "output_type": "stream",
     "text": [
      "Enter a string:  This is python programming and today is the final day.\n"
     ]
    },
    {
     "name": "stdout",
     "output_type": "stream",
     "text": [
      "String in forward order:\n",
      "T h i s   i s   p y t h o n   p r o g r a m m i n g   a n d   t o d a y   i s   t h e   f i n a l   d a y . \n",
      "\n",
      "String in reverse order:\n",
      ". y a d   l a n i f   e h t   s i   y a d o t   d n a   g n i m m a r g o r p   n o h t y p   s i   s i h T "
     ]
    }
   ],
   "source": [
    "user_string = input(\"Enter a string: \")\n",
    "print(\"String in forward order:\")\n",
    "index = 0\n",
    "while index < len(user_string):\n",
    "    print(user_string[index], end=' ')\n",
    "    index += 1\n",
    "print(\"\\n\\nString in reverse order:\")\n",
    "index = len(user_string) - 1\n",
    "while index >= 0:\n",
    "    print(user_string[index], end=' ')\n",
    "    index -= 1\n"
   ]
  },
  {
   "cell_type": "markdown",
   "id": "e1a81c88-6ca2-4091-a85d-db32be3cab25",
   "metadata": {},
   "source": [
    "#### Q: Write a python program to know whether a sub-string exists in main string."
   ]
  },
  {
   "cell_type": "code",
   "execution_count": 20,
   "id": "938be0ad-6c8a-48ed-bd33-3c589b2ed331",
   "metadata": {},
   "outputs": [
    {
     "name": "stdin",
     "output_type": "stream",
     "text": [
      "Enter the main string:   This is python programming and today is the final day.\n",
      "Enter the sub-string:  python programming\n"
     ]
    },
    {
     "name": "stdout",
     "output_type": "stream",
     "text": [
      "The sub-string 'python programming' exists in the main string.\n"
     ]
    }
   ],
   "source": [
    "main_string = input(\"Enter the main string: \")\n",
    "sub_string = input(\"Enter the sub-string: \")\n",
    "if sub_string in main_string:\n",
    "    print(f\"The sub-string '{sub_string}' exists in the main string.\")\n",
    "else:\n",
    "    print(f\"The sub-string '{sub_string}' does not exist in the main string.\")\n"
   ]
  },
  {
   "cell_type": "markdown",
   "id": "f87ece3f-407f-4899-bad6-9d36d4cc5281",
   "metadata": {},
   "source": [
    "#### Q: A python program to find the first occurrences of sub string in a given main string\r\n"
   ]
  },
  {
   "cell_type": "code",
   "execution_count": 21,
   "id": "818a630d-0e11-44b6-b928-afff7130687b",
   "metadata": {},
   "outputs": [
    {
     "name": "stdin",
     "output_type": "stream",
     "text": [
      "Enter the main string:   This is python programming and today is the final day.\n",
      "Enter the sub-string:  today\n"
     ]
    },
    {
     "name": "stdout",
     "output_type": "stream",
     "text": [
      "The sub-string 'today' first occurs at index 32.\n"
     ]
    }
   ],
   "source": [
    "main_string = input(\"Enter the main string: \")\n",
    "sub_string = input(\"Enter the sub-string: \")\n",
    "\n",
    "index = main_string.find(sub_string)\n",
    "if index != -1:\n",
    "    print(f\"The sub-string '{sub_string}' first occurs at index {index}.\")\n",
    "else:\n",
    "    print(f\"The sub-string '{sub_string}' was not found in the main string.\")\n"
   ]
  },
  {
   "cell_type": "markdown",
   "id": "3d3e5708-6a44-44c0-90ef-ad05e6a153e6",
   "metadata": {},
   "source": [
    "#### Q:A python program to insert a sub string in main string in a particular position\r\n",
    "\r\n",
    "Example:\n",
    "E enter a string :- it is summe\n",
    "r Enter sub_string;- ho\n",
    "t Enter position no:- \n",
    "7 Result :- It is h otsummre"
   ]
  },
  {
   "cell_type": "code",
   "execution_count": 23,
   "id": "72ae23ed-f8c2-463b-9546-01073a8b3ebb",
   "metadata": {},
   "outputs": [
    {
     "name": "stdin",
     "output_type": "stream",
     "text": [
      "Enter the main string:  It is a summer day.\n",
      "Enter the sub-string:  hot \n",
      "Enter the position number:  8\n"
     ]
    },
    {
     "name": "stdout",
     "output_type": "stream",
     "text": [
      "Result: It is a hot summer day.\n"
     ]
    }
   ],
   "source": [
    "main_string = input(\"Enter the main string: \")\n",
    "sub_string = input(\"Enter the sub-string: \")\n",
    "position = int(input(\"Enter the position number: \"))\n",
    "\n",
    "if position <= len(main_string):\n",
    "    result_string = main_string[:position] + sub_string + main_string[position:]\n",
    "    print(\"Result:\", result_string)\n",
    "else:\n",
    "    print(\"Position is out of bounds of the main string.\")\n"
   ]
  },
  {
   "cell_type": "markdown",
   "id": "bd0b8649-0680-4d1c-b1f9-2925ac8c7f63",
   "metadata": {},
   "source": [
    "#### Q: Generate an infinite fibonaaci series by using generator yield."
   ]
  },
  {
   "cell_type": "code",
   "execution_count": 25,
   "id": "a9cc66e2-1d90-483a-83fd-760176981597",
   "metadata": {},
   "outputs": [
    {
     "name": "stdout",
     "output_type": "stream",
     "text": [
      "0\n",
      "1\n",
      "1\n",
      "2\n",
      "3\n",
      "5\n",
      "8\n",
      "13\n",
      "21\n",
      "34\n"
     ]
    }
   ],
   "source": [
    "def infinite_fibonacci():\n",
    "    a, b = 0, 1\n",
    "    while True:\n",
    "        yield a\n",
    "        a, b = b, a + b\n",
    "fib_generator = infinite_fibonacci()\n",
    "for _ in range(10):\n",
    "    print(next(fib_generator))"
   ]
  },
  {
   "cell_type": "code",
   "execution_count": null,
   "id": "735bdf3c-ad6f-416e-8de0-b0cf0f93bf85",
   "metadata": {},
   "outputs": [],
   "source": []
  }
 ],
 "metadata": {
  "kernelspec": {
   "display_name": "Python 3 (ipykernel)",
   "language": "python",
   "name": "python3"
  },
  "language_info": {
   "codemirror_mode": {
    "name": "ipython",
    "version": 3
   },
   "file_extension": ".py",
   "mimetype": "text/x-python",
   "name": "python",
   "nbconvert_exporter": "python",
   "pygments_lexer": "ipython3",
   "version": "3.12.4"
  }
 },
 "nbformat": 4,
 "nbformat_minor": 5
}
